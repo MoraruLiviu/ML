{
 "cells": [
  {
   "cell_type": "code",
   "execution_count": 1,
   "id": "eed89e46",
   "metadata": {},
   "outputs": [],
   "source": [
    "import cv2 as cv\n",
    "import numpy as np\n",
    "import os"
   ]
  },
  {
   "cell_type": "code",
   "execution_count": 2,
   "id": "ac0cb10b",
   "metadata": {},
   "outputs": [],
   "source": [
    "def show_image(title,image):\n",
    "    image=cv.resize(image,(0,0),fx=0.3,fy=0.3)\n",
    "    cv.imshow(title,image)\n",
    "    cv.waitKey(0)\n",
    "    cv.destroyAllWindows()"
   ]
  },
  {
   "cell_type": "code",
   "execution_count": 51,
   "id": "c7c535f8",
   "metadata": {},
   "outputs": [],
   "source": [
    "def extrage_careu(image):\n",
    "    image = cv.cvtColor(image,cv.COLOR_BGR2GRAY)\n",
    "    image = image[500:3500, 600:2600]\n",
    "    image_m_blur = cv.medianBlur(image,3)\n",
    "    image_g_blur = cv.GaussianBlur(image_m_blur, (0, 0), 5) \n",
    "    image_sharpened = cv.addWeighted(image_m_blur, 1.2, image_g_blur, -0.8, 0)\n",
    "#     show_image('image_sharpened',image_sharpened)\n",
    "    _, thresh = cv.threshold(image_sharpened, 30, 255, cv.THRESH_BINARY)\n",
    "\n",
    "    kernel = np.ones((3, 3), np.uint8)\n",
    "    thresh = cv.erode(thresh, kernel)\n",
    "#     show_image('image_thresholded',thresh)\n",
    "\n",
    "   #600, 500   2600,3500 \n",
    "\n",
    "    \n",
    "    edges =  cv.Canny(thresh ,250,450)\n",
    "#     edges =  cv.Canny(thresh ,100,1000)\n",
    "#     show_image('edges',edges)\n",
    "    contours, _ = cv.findContours(edges,  cv.RETR_EXTERNAL, cv.CHAIN_APPROX_SIMPLE)\n",
    "    max_area = 0\n",
    "   \n",
    "    for i in range(len(contours)):\n",
    "        if(len(contours[i]) >3):\n",
    "            possible_top_left = None\n",
    "            possible_bottom_right = None\n",
    "            for point in contours[i].squeeze():\n",
    "                if possible_top_left is None or point[0] + point[1] < possible_top_left[0] + possible_top_left[1]:\n",
    "                    possible_top_left = point\n",
    "\n",
    "                if possible_bottom_right is None or point[0] + point[1] > possible_bottom_right[0] + possible_bottom_right[1] :\n",
    "                    possible_bottom_right = point\n",
    "\n",
    "            diff = np.diff(contours[i].squeeze(), axis = 1)\n",
    "            possible_top_right = contours[i].squeeze()[np.argmin(diff)]\n",
    "            possible_bottom_left = contours[i].squeeze()[np.argmax(diff)]\n",
    "            if cv.contourArea(np.array([[possible_top_left],[possible_top_right],[possible_bottom_right],[possible_bottom_left]])) > max_area:\n",
    "                max_area = cv.contourArea(np.array([[possible_top_left],[possible_top_right],[possible_bottom_right],[possible_bottom_left]]))\n",
    "                top_left = possible_top_left\n",
    "                bottom_right = possible_bottom_right\n",
    "                top_right = possible_top_right\n",
    "                bottom_left = possible_bottom_left\n",
    "\n",
    "    width = 700\n",
    "    height = 1000\n",
    "    \n",
    "    image_copy = cv.cvtColor(image.copy(),cv.COLOR_GRAY2BGR)\n",
    "    cv.circle(image_copy,tuple(top_left),20,(0,0,255),-1)\n",
    "    cv.circle(image_copy,tuple(top_right),20,(0,0,255),-1)\n",
    "    cv.circle(image_copy,tuple(bottom_left),20,(0,0,255),-1)\n",
    "    cv.circle(image_copy,tuple(bottom_right),20,(0,0,255),-1)\n",
    "#     show_image(\"detected corners\",image_copy)\n",
    "\n",
    "    puzzle = np.array([top_left,top_right,bottom_right,bottom_left], dtype = \"float32\")\n",
    "    destination_of_puzzle = np.array([[0,0],[width,0],[width,height],[0,height]], dtype = \"float32\")\n",
    "\n",
    "    M = cv.getPerspectiveTransform(puzzle,destination_of_puzzle)\n",
    "\n",
    "    result = cv.warpPerspective(image, M, (width, height))\n",
    "    result = cv.cvtColor(result,cv.COLOR_GRAY2BGR)\n",
    "    \n",
    "    return result"
   ]
  },
  {
   "cell_type": "code",
   "execution_count": 12,
   "id": "6d3187d7",
   "metadata": {},
   "outputs": [],
   "source": [
    "lines_horizontal=[]\n",
    "for i in range(0,1001,100):\n",
    "    l=[]\n",
    "    l.append((0,i))\n",
    "    l.append((699,i))\n",
    "    lines_horizontal.append(l)"
   ]
  },
  {
   "cell_type": "code",
   "execution_count": 18,
   "id": "63978604",
   "metadata": {},
   "outputs": [],
   "source": [
    "lines_vertical=[]\n",
    "for i in range(0,701,100):\n",
    "    l=[]\n",
    "    l.append((i,0))\n",
    "    l.append((i,999))\n",
    "    lines_vertical.append(l)"
   ]
  },
  {
   "cell_type": "code",
   "execution_count": 52,
   "id": "102e76df",
   "metadata": {},
   "outputs": [],
   "source": [
    "files=os.listdir('data/train')\n",
    "for file in files:\n",
    "    if file[-3:]=='jpg':\n",
    "        img = cv.imread('data/train/'+file)\n",
    "        result=extrage_careu(img)\n",
    "        for line in  lines_vertical : \n",
    "            cv.line(result, line[0], line[1], (0, 255, 0), 5)\n",
    "        for line in  lines_horizontal : \n",
    "            cv.line(result, line[0], line[1], (0, 0, 255), 5)\n",
    "        show_image('img',result)"
   ]
  },
  {
   "cell_type": "code",
   "execution_count": 31,
   "id": "ff4e0c5e",
   "metadata": {},
   "outputs": [],
   "source": [
    "def determina_configuratie_careu_ox(thresh,lines_horizontal,lines_vertical):\n",
    "    matrix = np.empty((10,12), dtype='str')\n",
    "    for i in range(len(lines_horizontal)-1):\n",
    "        for j in range(len(lines_vertical)-1):\n",
    "            y_min = lines_vertical[j][0][0] + 20\n",
    "            y_max = lines_vertical[j + 1][1][0] - 20\n",
    "            x_min = lines_horizontal[i][0][1] + 20\n",
    "            x_max = lines_horizontal[i + 1][1][1] - 20\n",
    "            \n",
    "            patch = thresh[x_min:x_max, y_min:y_max].copy()\n",
    "            Medie_patch=np.mean(patch)\n",
    "            if Medie_patch>0:\n",
    "                matrix[i][j]='x'\n",
    "            else:\n",
    "                matrix[i][j]='o'\n",
    "    return matrix"
   ]
  },
  {
   "cell_type": "code",
   "execution_count": 16,
   "id": "587ece85",
   "metadata": {},
   "outputs": [],
   "source": [
    "def vizualizare_configuratie(result,matrix,lines_horizontal,lines_vertical):\n",
    "    for i in range(len(lines_horizontal) - 1):\n",
    "        for j in range(len(lines_vertical) - 1):\n",
    "            y_min = lines_vertical[j][0][0]\n",
    "            y_max = lines_vertical[j + 1][1][0]\n",
    "            x_min = lines_horizontal[i][0][1]\n",
    "            x_max = lines_horizontal[i + 1][1][1]\n",
    "            if matrix[i][j] == 'x': \n",
    "                cv.rectangle(result, (y_min, x_min), (y_max, x_max), color=(255, 0, 0), thickness=5)"
   ]
  },
  {
   "cell_type": "code",
   "execution_count": 24,
   "id": "e047ddca",
   "metadata": {},
   "outputs": [],
   "source": [
    "files=os.listdir('data/train')\n",
    "for file in files:\n",
    "    if file[-3:]=='jpg':\n",
    "        img = cv.imread('data/train/'+file)\n",
    "        result=extrage_careu(img)\n",
    "        _, thresh = cv.threshold(result, 100, 255, cv.THRESH_BINARY_INV)\n",
    "        matrice=determina_configuratie_careu_ox(thresh,lines_horizontal,lines_vertical)\n",
    "        vizualizare_configuratie(result,matrice,lines_horizontal,lines_vertical)\n",
    "        show_image('img',result)"
   ]
  },
  {
   "cell_type": "code",
   "execution_count": 27,
   "id": "3b14c0ce",
   "metadata": {},
   "outputs": [
    {
     "name": "stdout",
     "output_type": "stream",
     "text": [
      "[['1A', '2B', '5E', '8C', '9F'], ['1H', '3C', '7B', '8E', '9A', '11A', '12B'], ['1C', '3D', '4F', '4G', '5A', '6D'], ['1A', '1C', '1D', '7D', '8E', '8F', '9E', '10E'], ['2D', '2E', '7H', '9D']]\n",
      "['1A', '2B', '5E', '8C', '9F']\n",
      "1A\n",
      "1\n",
      "<class 'str'>\n",
      "<class 'int'>\n",
      "0\n"
     ]
    }
   ],
   "source": [
    "files=os.listdir('data/train')\n",
    "X_test = []\n",
    "hit_list = []\n",
    "for file in files:\n",
    "    if file[-3:]=='txt' and file != 'configuratii.txt':\n",
    "        with open('data/train/'+ file) as f:\n",
    "            continutFisier = f.read()\n",
    "            split = continutFisier.split(\"\\n\")\n",
    "            hit_list.append(split[1:(int(split[0])+1)])\n",
    "print(hit_list)\n",
    "print(hit_list[0])\n",
    "print(hit_list[0][0])\n",
    "print(hit_list[0][0][0])\n",
    "print(type(hit_list[0][0][0]))\n",
    "print(type(int(hit_list[0][0][0])))\n",
    "print(int(hit_list[0][0][0])-1)"
   ]
  },
  {
   "cell_type": "code",
   "execution_count": 28,
   "id": "2bd5cb9d",
   "metadata": {},
   "outputs": [],
   "source": [
    "def letter_to_number(l):\n",
    "    if l == \"A\":\n",
    "        return 1\n",
    "    elif l == \"B\":\n",
    "        return 2\n",
    "    elif l == \"C\":\n",
    "        return 3\n",
    "    elif l == \"D\":\n",
    "        return 4\n",
    "    elif l == \"E\":\n",
    "        return 5\n",
    "    elif l == \"F\":\n",
    "        return 6\n",
    "    elif l == \"G\":\n",
    "        return 7\n",
    "    elif l == \"H\":\n",
    "        return 8\n",
    "    elif l == \"I\":\n",
    "        return 9\n",
    "    elif l == \"J\":\n",
    "        return 10"
   ]
  },
  {
   "cell_type": "code",
   "execution_count": 55,
   "id": "68f149df",
   "metadata": {},
   "outputs": [
    {
     "name": "stdout",
     "output_type": "stream",
     "text": [
      "fisierele de output au fost create in directory-ul cu .ipynb\n"
     ]
    }
   ],
   "source": [
    "files=os.listdir('data/train')\n",
    "i=0\n",
    "for file in files:\n",
    "    if file[-3:]=='jpg':\n",
    "        img = cv.imread('data/train/'+file)\n",
    "        result=extrage_careu(img)\n",
    "        _, thresh = cv.threshold(result, 100, 255, cv.THRESH_BINARY_INV)\n",
    "        matrice=determina_configuratie_careu_ox(thresh,lines_horizontal,lines_vertical)\n",
    "       \n",
    "    if file[-3:]=='txt' and file != 'configuratii.txt':\n",
    "        with open('data/train/'+ file) as f:\n",
    "            continutFisier = f.read()\n",
    "            split = continutFisier.split(\"\\n\")\n",
    "            hits = split[1:(int(split[0])+1)]\n",
    "            \n",
    "            \n",
    "        with open('out'+ str(i+1) +'.txt','w') as g:\n",
    "            for position in hits:\n",
    "                if (position[0] == '1' and position[1] == '0') or (position[0] == '1' and position[1] == '1') or (position[0] == '1' and position[1] == '2'):\n",
    "                    if matrice[int(position[0:1])-1][letter_to_number(position[2])-1] == 'x':\n",
    "                        label = 1\n",
    "                    else:\n",
    "                        label = 0\n",
    "                \n",
    "                elif matrice[int(position[0])-1][letter_to_number(position[1])-1] == 'x':\n",
    "                    label = 1\n",
    "                else:\n",
    "                    label = 0\n",
    "\n",
    "                print(position, label, file = g)\n",
    "        i+=1\n",
    "print(\"fisierele de output au fost create in directory-ul cu .ipynb\")"
   ]
  },
  {
   "cell_type": "code",
   "execution_count": null,
   "id": "2fcd602a",
   "metadata": {},
   "outputs": [],
   "source": []
  }
 ],
 "metadata": {
  "kernelspec": {
   "display_name": "Python 3 (ipykernel)",
   "language": "python",
   "name": "python3"
  },
  "language_info": {
   "codemirror_mode": {
    "name": "ipython",
    "version": 3
   },
   "file_extension": ".py",
   "mimetype": "text/x-python",
   "name": "python",
   "nbconvert_exporter": "python",
   "pygments_lexer": "ipython3",
   "version": "3.9.7"
  }
 },
 "nbformat": 4,
 "nbformat_minor": 5
}
